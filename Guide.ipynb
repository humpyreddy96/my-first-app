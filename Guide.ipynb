{
 "cells": [
  {
   "cell_type": "markdown",
   "metadata": {
    "editable": true
   },
   "source": [
    "## Workspace Instructions\n",
    "\n",
    "The Angular CLI has been installed and is ready to use! Follow these quick steps to get your application up and running:\n",
    "\n",
    "1. To initialize the Workspace, click the `SET UP WORKSPACE` button.\n",
    "2. To serve an Angular application: After scaffolding a new Angular application, `cd` into its root directory, then click the `START ANGULAR` button.\n",
    "3. To open an Angular application in a browser window, click on `OPEN APP`.\n",
    "\n",
    "## Exercise Instructions\n",
    "\n",
    "Components are the building blocks of Angular. When building Angular projects, you'll definitely generate your fair share of components!\n",
    "\n",
    "1. Navigate to the project in the `Starter` folder, then run `npm install`.\n",
    "2. Use the Angular CLI to generate a new component, `About`.\n",
    "3. Open `./src/app/app.component.html` and replace the entire contents of the file with just one line:\n",
    "\n",
    "```\n",
    "<app-about></app-about>\n",
    "```\n",
    "\n",
    "4. Open `./src/app/about/about.component.html` and at the very top, add an `h1` tag containing your name. On the next line, replace the contents of the `p` tag and add a sentence or two about yourself.\n",
    "5. Serve the application on port `3000` (or click on `START ANGULAR` below if developing in this Workspace).\n",
    "6. View the component you've just created in the browser! "
   ]
  },
  {
   "cell_type": "markdown",
   "metadata": {
    "editable": true,
    "ulab": {
     "buttons": {
      "ulab-button-b45c859f": {
       "bashCommand": "source setup_node.sh",
       "filesToOpen": [],
       "isPreviewButton": false,
       "runInBackground": false,
       "style": "primary",
       "text": "SET UP WORKSPACE",
       "toggleOffText": "HIDE SOLUTION",
       "toggleOnText": "SHOW SOLUTION"
      }
     }
    }
   },
   "source": [
    "<button id=\"ulab-button-b45c859f\" class=\"ulab-btn--primary\"></button>"
   ]
  },
  {
   "cell_type": "markdown",
   "metadata": {
    "editable": true,
    "ulab": {
     "buttons": {
      "ulab-button-29be98dd": {
       "bashCommand": "ng serve --port 3000 --host 0.0.0.0 --disableHostCheck true",
       "filesToOpen": [],
       "isPreviewButton": false,
       "runInBackground": false,
       "style": "primary",
       "text": "START ANGULAR",
       "toggleOffText": "HIDE SOLUTION",
       "toggleOnText": "SHOW SOLUTION"
      },
      "ulab-button-34c8e873": {
       "bashCommand": "",
       "filesToOpen": [],
       "isPreviewButton": true,
       "runInBackground": false,
       "style": "primary",
       "text": "OPEN APP",
       "toggleOffText": "HIDE SOLUTION",
       "toggleOnText": "SHOW SOLUTION"
      }
     }
    }
   },
   "source": [
    "<button id=\"ulab-button-29be98dd\" class=\"ulab-btn--primary\"></button>"
   ]
  },
  {
   "cell_type": "markdown",
   "metadata": {
    "editable": true,
    "ulab": {
     "buttons": {
      "ulab-button-b3f3478d": {
       "bashCommand": "",
       "filesToOpen": [],
       "isPreviewButton": true,
       "runInBackground": false,
       "style": "primary",
       "text": "OPEN APP",
       "toggleOffText": "HIDE SOLUTION",
       "toggleOnText": "SHOW SOLUTION"
      }
     }
    }
   },
   "source": [
    "<button id=\"ulab-button-b3f3478d\" class=\"ulab-btn--primary\"></button>"
   ]
  }
 ],
 "metadata": {
  "kernelspec": {
   "display_name": "Python 3",
   "language": "python",
   "name": "python3"
  },
  "language_info": {
   "codemirror_mode": {
    "name": "ipython",
    "version": 3
   },
   "file_extension": ".py",
   "mimetype": "text/x-python",
   "name": "python",
   "nbconvert_exporter": "python",
   "pygments_lexer": "ipython3",
   "version": "3.6.3"
  },
  "ulab_nb_type": "guided"
 },
 "nbformat": 4,
 "nbformat_minor": 4
}
